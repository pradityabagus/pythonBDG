{
 "cells": [
  {
   "cell_type": "code",
   "execution_count": 1,
   "metadata": {},
   "outputs": [],
   "source": [
    "# LIBRARIES\n",
    "import pandas as pd\n",
    "import numpy as np\n",
    "import statsmodels.formula.api as smf"
   ]
  },
  {
   "cell_type": "code",
   "execution_count": 2,
   "metadata": {},
   "outputs": [],
   "source": [
    "# DATA\n",
    "LL = pd.read_stata('LL_train.dta')\n",
    "pd.set_option('display.max_columns', 50)\n",
    "pd.set_option('display.max_rows', 10)\n",
    "\n",
    "SE = pd.read_stata('self_employment.dta')\n",
    "pd.set_option('display.max_columns', 100)\n",
    "pd.set_option('display.max_rows', 10)"
   ]
  },
  {
   "cell_type": "code",
   "execution_count": 3,
   "metadata": {},
   "outputs": [],
   "source": [
    "# MANIPULATION\n",
    "\n",
    "## Create income per million variable\n",
    "## # data['newvar'] = data.oldvar / 1000000\n",
    "LL['income_mill'] = LL.income_month / 1000000\n",
    "\n",
    "## Create new quadratic variable\n",
    "## data['newvar'] = data.oldvar ** 2\n",
    "SE['agesqr'] = SE.age ** 2"
   ]
  },
  {
   "cell_type": "code",
   "execution_count": 4,
   "metadata": {},
   "outputs": [],
   "source": [
    "# OLS REGRESSION\n",
    "\n",
    "## Y = income_month\n",
    "### OLS Regression\n",
    "ols1 = smf.ols('income_month ~ age + agesqr + female', data=LL).fit()\n",
    "\n",
    "### OLS Regression with quadratic variable (assuming agesqr is not exist)\n",
    "ols2 = smf.ols('income_month ~ age + I(age**2) + female', data=LL).fit()\n",
    "\n",
    "\n",
    "## Y = income_mill\n",
    "#### OLS Regression\n",
    "ols3 = smf.ols('income_mill ~ age + agesqr + female', data=LL).fit()\n",
    "\n",
    "#### OLS Regression with quadratic variable (assuming agesqr is not exist)\n",
    "ols4 = smf.ols('income_mill ~ age + I(age**2) + female', data=LL).fit()"
   ]
  },
  {
   "cell_type": "code",
   "execution_count": 6,
   "metadata": {},
   "outputs": [
    {
     "name": "stdout",
     "output_type": "stream",
     "text": [
      "                            OLS Regression Results                            \n",
      "==============================================================================\n",
      "Dep. Variable:           income_month   R-squared:                       0.024\n",
      "Model:                            OLS   Adj. R-squared:                  0.024\n",
      "Method:                 Least Squares   F-statistic:                     97.45\n",
      "Date:                Sun, 18 Nov 2018   Prob (F-statistic):           2.61e-62\n",
      "Time:                        14:54:33   Log-Likelihood:            -1.9563e+05\n",
      "No. Observations:               11914   AIC:                         3.913e+05\n",
      "Df Residuals:                   11910   BIC:                         3.913e+05\n",
      "Df Model:                           3                                         \n",
      "Covariance Type:            nonrobust                                         \n",
      "==============================================================================\n",
      "                 coef    std err          t      P>|t|      [0.025      0.975]\n",
      "------------------------------------------------------------------------------\n",
      "Intercept  -1.768e+06   2.62e+05     -6.762      0.000   -2.28e+06   -1.26e+06\n",
      "age         1.947e+05   1.37e+04     14.257      0.000    1.68e+05    2.21e+05\n",
      "agesqr     -2192.9069    169.323    -12.951      0.000   -2524.807   -1861.006\n",
      "female     -4.322e+05   6.27e+04     -6.894      0.000   -5.55e+05   -3.09e+05\n",
      "==============================================================================\n",
      "Omnibus:                    24598.060   Durbin-Watson:                   1.764\n",
      "Prob(Omnibus):                  0.000   Jarque-Bera (JB):        204095318.421\n",
      "Skew:                          17.086   Prob(JB):                         0.00\n",
      "Kurtosis:                     643.288   Cond. No.                     1.47e+04\n",
      "==============================================================================\n",
      "\n",
      "Warnings:\n",
      "[1] Standard Errors assume that the covariance matrix of the errors is correctly specified.\n",
      "[2] The condition number is large, 1.47e+04. This might indicate that there are\n",
      "strong multicollinearity or other numerical problems.\n",
      "                            OLS Regression Results                            \n",
      "==============================================================================\n",
      "Dep. Variable:           income_month   R-squared:                       0.024\n",
      "Model:                            OLS   Adj. R-squared:                  0.024\n",
      "Method:                 Least Squares   F-statistic:                     97.45\n",
      "Date:                Sun, 18 Nov 2018   Prob (F-statistic):           2.61e-62\n",
      "Time:                        14:54:33   Log-Likelihood:            -1.9563e+05\n",
      "No. Observations:               11914   AIC:                         3.913e+05\n",
      "Df Residuals:                   11910   BIC:                         3.913e+05\n",
      "Df Model:                           3                                         \n",
      "Covariance Type:            nonrobust                                         \n",
      "===============================================================================\n",
      "                  coef    std err          t      P>|t|      [0.025      0.975]\n",
      "-------------------------------------------------------------------------------\n",
      "Intercept   -1.768e+06   2.62e+05     -6.762      0.000   -2.28e+06   -1.26e+06\n",
      "age          1.947e+05   1.37e+04     14.257      0.000    1.68e+05    2.21e+05\n",
      "I(age ** 2) -2192.9069    169.323    -12.951      0.000   -2524.807   -1861.006\n",
      "female      -4.322e+05   6.27e+04     -6.894      0.000   -5.55e+05   -3.09e+05\n",
      "==============================================================================\n",
      "Omnibus:                    24598.060   Durbin-Watson:                   1.764\n",
      "Prob(Omnibus):                  0.000   Jarque-Bera (JB):        204095318.421\n",
      "Skew:                          17.086   Prob(JB):                         0.00\n",
      "Kurtosis:                     643.288   Cond. No.                     1.47e+04\n",
      "==============================================================================\n",
      "\n",
      "Warnings:\n",
      "[1] Standard Errors assume that the covariance matrix of the errors is correctly specified.\n",
      "[2] The condition number is large, 1.47e+04. This might indicate that there are\n",
      "strong multicollinearity or other numerical problems.\n",
      "                            OLS Regression Results                            \n",
      "==============================================================================\n",
      "Dep. Variable:            income_mill   R-squared:                       0.024\n",
      "Model:                            OLS   Adj. R-squared:                  0.024\n",
      "Method:                 Least Squares   F-statistic:                     97.45\n",
      "Date:                Sun, 18 Nov 2018   Prob (F-statistic):           2.61e-62\n",
      "Time:                        14:54:33   Log-Likelihood:                -31030.\n",
      "No. Observations:               11914   AIC:                         6.207e+04\n",
      "Df Residuals:                   11910   BIC:                         6.210e+04\n",
      "Df Model:                           3                                         \n",
      "Covariance Type:            nonrobust                                         \n",
      "==============================================================================\n",
      "                 coef    std err          t      P>|t|      [0.025      0.975]\n",
      "------------------------------------------------------------------------------\n",
      "Intercept     -1.7682      0.262     -6.762      0.000      -2.281      -1.256\n",
      "age            0.1947      0.014     14.257      0.000       0.168       0.221\n",
      "agesqr        -0.0022      0.000    -12.951      0.000      -0.003      -0.002\n",
      "female        -0.4322      0.063     -6.894      0.000      -0.555      -0.309\n",
      "==============================================================================\n",
      "Omnibus:                    24598.060   Durbin-Watson:                   1.764\n",
      "Prob(Omnibus):                  0.000   Jarque-Bera (JB):        204095316.521\n",
      "Skew:                          17.086   Prob(JB):                         0.00\n",
      "Kurtosis:                     643.288   Cond. No.                     1.47e+04\n",
      "==============================================================================\n",
      "\n",
      "Warnings:\n",
      "[1] Standard Errors assume that the covariance matrix of the errors is correctly specified.\n",
      "[2] The condition number is large, 1.47e+04. This might indicate that there are\n",
      "strong multicollinearity or other numerical problems.\n",
      "                            OLS Regression Results                            \n",
      "==============================================================================\n",
      "Dep. Variable:            income_mill   R-squared:                       0.024\n",
      "Model:                            OLS   Adj. R-squared:                  0.024\n",
      "Method:                 Least Squares   F-statistic:                     97.45\n",
      "Date:                Sun, 18 Nov 2018   Prob (F-statistic):           2.61e-62\n",
      "Time:                        14:54:33   Log-Likelihood:                -31030.\n",
      "No. Observations:               11914   AIC:                         6.207e+04\n",
      "Df Residuals:                   11910   BIC:                         6.210e+04\n",
      "Df Model:                           3                                         \n",
      "Covariance Type:            nonrobust                                         \n",
      "===============================================================================\n",
      "                  coef    std err          t      P>|t|      [0.025      0.975]\n",
      "-------------------------------------------------------------------------------\n",
      "Intercept      -1.7682      0.262     -6.762      0.000      -2.281      -1.256\n",
      "age             0.1947      0.014     14.257      0.000       0.168       0.221\n",
      "I(age ** 2)    -0.0022      0.000    -12.951      0.000      -0.003      -0.002\n",
      "female         -0.4322      0.063     -6.894      0.000      -0.555      -0.309\n",
      "==============================================================================\n",
      "Omnibus:                    24598.060   Durbin-Watson:                   1.764\n",
      "Prob(Omnibus):                  0.000   Jarque-Bera (JB):        204095316.521\n",
      "Skew:                          17.086   Prob(JB):                         0.00\n",
      "Kurtosis:                     643.288   Cond. No.                     1.47e+04\n",
      "==============================================================================\n",
      "\n",
      "Warnings:\n",
      "[1] Standard Errors assume that the covariance matrix of the errors is correctly specified.\n",
      "[2] The condition number is large, 1.47e+04. This might indicate that there are\n",
      "strong multicollinearity or other numerical problems.\n"
     ]
    }
   ],
   "source": [
    "# RESULT [income_month]\n",
    "print(ols1.summary())\n",
    "print(ols2.summary())\n",
    "\n",
    "# RESULT [income_mill]\n",
    "print(ols3.summary())\n",
    "print(ols4.summary())"
   ]
  },
  {
   "cell_type": "code",
   "execution_count": 7,
   "metadata": {},
   "outputs": [
    {
     "name": "stdout",
     "output_type": "stream",
     "text": [
      "Optimization terminated successfully.\n",
      "         Current function value: 0.516816\n",
      "         Iterations 6\n",
      "Optimization terminated successfully.\n",
      "         Current function value: 0.517340\n",
      "         Iterations 6\n"
     ]
    }
   ],
   "source": [
    "# DUMMY REGRESSION\n",
    "\n",
    "## Probit Regression\n",
    "probit1 = smf.probit('selfemployed ~ age + agesqr + female', data=SE).fit()\n",
    "\n",
    "## Logit Regression\n",
    "logit1 = smf.logit('selfemployed ~ age + agesqr + female', data=SE).fit()"
   ]
  },
  {
   "cell_type": "code",
   "execution_count": 8,
   "metadata": {},
   "outputs": [
    {
     "name": "stdout",
     "output_type": "stream",
     "text": [
      "                          Probit Regression Results                           \n",
      "==============================================================================\n",
      "Dep. Variable:           selfemployed   No. Observations:                86137\n",
      "Model:                         Probit   Df Residuals:                    86133\n",
      "Method:                           MLE   Df Model:                            3\n",
      "Date:                Sun, 18 Nov 2018   Pseudo R-squ.:                  0.1202\n",
      "Time:                        14:56:38   Log-Likelihood:                -44517.\n",
      "converged:                       True   LL-Null:                       -50599.\n",
      "                                        LLR p-value:                     0.000\n",
      "==============================================================================\n",
      "                 coef    std err          z      P>|z|      [0.025      0.975]\n",
      "------------------------------------------------------------------------------\n",
      "Intercept     -3.0946      0.033    -92.677      0.000      -3.160      -3.029\n",
      "age            0.1172      0.002     75.215      0.000       0.114       0.120\n",
      "agesqr        -0.0011   1.68e-05    -63.316      0.000      -0.001      -0.001\n",
      "female        -0.4762      0.010    -48.951      0.000      -0.495      -0.457\n",
      "==============================================================================\n",
      "                           Logit Regression Results                           \n",
      "==============================================================================\n",
      "Dep. Variable:           selfemployed   No. Observations:                86137\n",
      "Model:                          Logit   Df Residuals:                    86133\n",
      "Method:                           MLE   Df Model:                            3\n",
      "Date:                Sun, 18 Nov 2018   Pseudo R-squ.:                  0.1193\n",
      "Time:                        14:56:38   Log-Likelihood:                -44562.\n",
      "converged:                       True   LL-Null:                       -50599.\n",
      "                                        LLR p-value:                     0.000\n",
      "==============================================================================\n",
      "                 coef    std err          z      P>|z|      [0.025      0.975]\n",
      "------------------------------------------------------------------------------\n",
      "Intercept     -5.3292      0.062    -86.269      0.000      -5.450      -5.208\n",
      "age            0.2033      0.003     71.660      0.000       0.198       0.209\n",
      "agesqr        -0.0019   3.04e-05    -61.002      0.000      -0.002      -0.002\n",
      "female        -0.8089      0.017    -48.986      0.000      -0.841      -0.777\n",
      "==============================================================================\n"
     ]
    }
   ],
   "source": [
    "# RESULT\n",
    "## Probit\n",
    "print(probit1.summary())\n",
    "\n",
    "## Logit\n",
    "print(logit1.summary())"
   ]
  },
  {
   "cell_type": "code",
   "execution_count": 10,
   "metadata": {},
   "outputs": [
    {
     "data": {
      "text/html": [
       "<table class=\"simpletable\">\n",
       "<caption>Probit Marginal Effects</caption>\n",
       "<tr>\n",
       "  <th>Dep. Variable:</th> <td>selfemployed</td>\n",
       "</tr>\n",
       "<tr>\n",
       "  <th>Method:</th>            <td>dydx</td>    \n",
       "</tr>\n",
       "<tr>\n",
       "  <th>At:</th>                <td>mean</td>    \n",
       "</tr>\n",
       "</table>\n",
       "<table class=\"simpletable\">\n",
       "<tr>\n",
       "     <th></th>       <th>dy/dx</th>    <th>std err</th>      <th>z</th>      <th>P>|z|</th>  <th>[0.025</th>    <th>0.975]</th>  \n",
       "</tr>\n",
       "<tr>\n",
       "  <th>age</th>    <td>    0.0364</td> <td>    0.000</td> <td>   78.482</td> <td> 0.000</td> <td>    0.036</td> <td>    0.037</td>\n",
       "</tr>\n",
       "<tr>\n",
       "  <th>agesqr</th> <td>   -0.0003</td> <td> 5.07e-06</td> <td>  -65.318</td> <td> 0.000</td> <td>   -0.000</td> <td>   -0.000</td>\n",
       "</tr>\n",
       "<tr>\n",
       "  <th>female</th> <td>   -0.1486</td> <td>    0.003</td> <td>  -49.208</td> <td> 0.000</td> <td>   -0.155</td> <td>   -0.143</td>\n",
       "</tr>\n",
       "</table>"
      ],
      "text/plain": [
       "<class 'statsmodels.iolib.summary.Summary'>\n",
       "\"\"\"\n",
       "       Probit Marginal Effects       \n",
       "=====================================\n",
       "Dep. Variable:           selfemployed\n",
       "Method:                          dydx\n",
       "At:                              mean\n",
       "==============================================================================\n",
       "                dy/dx    std err          z      P>|z|      [0.025      0.975]\n",
       "------------------------------------------------------------------------------\n",
       "age            0.0364      0.000     78.482      0.000       0.036       0.037\n",
       "agesqr        -0.0003   5.07e-06    -65.318      0.000      -0.000      -0.000\n",
       "female        -0.1486      0.003    -49.208      0.000      -0.155      -0.143\n",
       "==============================================================================\n",
       "\"\"\""
      ]
     },
     "execution_count": 10,
     "metadata": {},
     "output_type": "execute_result"
    }
   ],
   "source": [
    "## Marginal effect [Probit]\n",
    "probit1.get_margeff(at='mean', method='dydx', atexog=None, dummy=True, count=False).summary()"
   ]
  },
  {
   "cell_type": "code",
   "execution_count": 11,
   "metadata": {},
   "outputs": [
    {
     "data": {
      "text/html": [
       "<table class=\"simpletable\">\n",
       "<caption>Logit Marginal Effects</caption>\n",
       "<tr>\n",
       "  <th>Dep. Variable:</th> <td>selfemployed</td>\n",
       "</tr>\n",
       "<tr>\n",
       "  <th>Method:</th>            <td>dydx</td>    \n",
       "</tr>\n",
       "<tr>\n",
       "  <th>At:</th>                <td>mean</td>    \n",
       "</tr>\n",
       "</table>\n",
       "<table class=\"simpletable\">\n",
       "<tr>\n",
       "     <th></th>       <th>dy/dx</th>    <th>std err</th>      <th>z</th>      <th>P>|z|</th>  <th>[0.025</th>    <th>0.975]</th>  \n",
       "</tr>\n",
       "<tr>\n",
       "  <th>age</th>    <td>    0.0363</td> <td>    0.000</td> <td>   77.835</td> <td> 0.000</td> <td>    0.035</td> <td>    0.037</td>\n",
       "</tr>\n",
       "<tr>\n",
       "  <th>agesqr</th> <td>   -0.0003</td> <td> 5.11e-06</td> <td>  -64.840</td> <td> 0.000</td> <td>   -0.000</td> <td>   -0.000</td>\n",
       "</tr>\n",
       "<tr>\n",
       "  <th>female</th> <td>   -0.1460</td> <td>    0.003</td> <td>  -49.185</td> <td> 0.000</td> <td>   -0.152</td> <td>   -0.140</td>\n",
       "</tr>\n",
       "</table>"
      ],
      "text/plain": [
       "<class 'statsmodels.iolib.summary.Summary'>\n",
       "\"\"\"\n",
       "        Logit Marginal Effects       \n",
       "=====================================\n",
       "Dep. Variable:           selfemployed\n",
       "Method:                          dydx\n",
       "At:                              mean\n",
       "==============================================================================\n",
       "                dy/dx    std err          z      P>|z|      [0.025      0.975]\n",
       "------------------------------------------------------------------------------\n",
       "age            0.0363      0.000     77.835      0.000       0.035       0.037\n",
       "agesqr        -0.0003   5.11e-06    -64.840      0.000      -0.000      -0.000\n",
       "female        -0.1460      0.003    -49.185      0.000      -0.152      -0.140\n",
       "==============================================================================\n",
       "\"\"\""
      ]
     },
     "execution_count": 11,
     "metadata": {},
     "output_type": "execute_result"
    }
   ],
   "source": [
    "## Marginal effect [Logit]\n",
    "logit1.get_margeff(at='mean', method='dydx', atexog=None, dummy=True, count=False).summary()"
   ]
  },
  {
   "cell_type": "code",
   "execution_count": null,
   "metadata": {},
   "outputs": [],
   "source": []
  }
 ],
 "metadata": {
  "kernelspec": {
   "display_name": "Python 3",
   "language": "python",
   "name": "python3"
  },
  "language_info": {
   "codemirror_mode": {
    "name": "ipython",
    "version": 3
   },
   "file_extension": ".py",
   "mimetype": "text/x-python",
   "name": "python",
   "nbconvert_exporter": "python",
   "pygments_lexer": "ipython3",
   "version": "3.7.0"
  }
 },
 "nbformat": 4,
 "nbformat_minor": 2
}
