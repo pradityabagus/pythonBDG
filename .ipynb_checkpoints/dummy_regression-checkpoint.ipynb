{
 "cells": [
  {
   "cell_type": "code",
   "execution_count": 22,
   "metadata": {},
   "outputs": [],
   "source": [
    "# Libraries\n",
    "import pandas as pd\n",
    "import numpy as np\n",
    "import statsmodels.formula.api as smf\n",
    "\n",
    "# Data manipulating\n",
    "SE = pd.read_stata('self_employment.dta')\n",
    "pd.set_option('display.max_columns', 100)\n",
    "pd.set_option('display.max_rows', 10)"
   ]
  },
  {
   "cell_type": "code",
   "execution_count": 23,
   "metadata": {},
   "outputs": [],
   "source": [
    "# Creating new quadratic variable\n",
    "# data['newvar'] = data.oldvar ** 2\n",
    "SE['agesqr'] = SE.age ** 2"
   ]
  },
  {
   "cell_type": "code",
   "execution_count": 24,
   "metadata": {},
   "outputs": [
    {
     "name": "stdout",
     "output_type": "stream",
     "text": [
      "Optimization terminated successfully.\n",
      "         Current function value: 0.516816\n",
      "         Iterations 6\n",
      "Optimization terminated successfully.\n",
      "         Current function value: 0.517340\n",
      "         Iterations 6\n"
     ]
    }
   ],
   "source": [
    "# Probit Regression\n",
    "model1 = smf.probit('selfemployed ~ age + agesqr + female', data=SE).fit()\n",
    "\n",
    "# Probit Regression\n",
    "model2 = smf.logit('selfemployed ~ age + agesqr + female', data=SE).fit()"
   ]
  },
  {
   "cell_type": "code",
   "execution_count": 25,
   "metadata": {},
   "outputs": [
    {
     "name": "stdout",
     "output_type": "stream",
     "text": [
      "                          Probit Regression Results                           \n",
      "==============================================================================\n",
      "Dep. Variable:           selfemployed   No. Observations:                86137\n",
      "Model:                         Probit   Df Residuals:                    86133\n",
      "Method:                           MLE   Df Model:                            3\n",
      "Date:                Sun, 18 Nov 2018   Pseudo R-squ.:                  0.1202\n",
      "Time:                        13:12:28   Log-Likelihood:                -44517.\n",
      "converged:                       True   LL-Null:                       -50599.\n",
      "                                        LLR p-value:                     0.000\n",
      "==============================================================================\n",
      "                 coef    std err          z      P>|z|      [0.025      0.975]\n",
      "------------------------------------------------------------------------------\n",
      "Intercept     -3.0946      0.033    -92.677      0.000      -3.160      -3.029\n",
      "age            0.1172      0.002     75.215      0.000       0.114       0.120\n",
      "agesqr        -0.0011   1.68e-05    -63.316      0.000      -0.001      -0.001\n",
      "female        -0.4762      0.010    -48.951      0.000      -0.495      -0.457\n",
      "==============================================================================\n",
      "                           Logit Regression Results                           \n",
      "==============================================================================\n",
      "Dep. Variable:           selfemployed   No. Observations:                86137\n",
      "Model:                          Logit   Df Residuals:                    86133\n",
      "Method:                           MLE   Df Model:                            3\n",
      "Date:                Sun, 18 Nov 2018   Pseudo R-squ.:                  0.1193\n",
      "Time:                        13:12:28   Log-Likelihood:                -44562.\n",
      "converged:                       True   LL-Null:                       -50599.\n",
      "                                        LLR p-value:                     0.000\n",
      "==============================================================================\n",
      "                 coef    std err          z      P>|z|      [0.025      0.975]\n",
      "------------------------------------------------------------------------------\n",
      "Intercept     -5.3292      0.062    -86.269      0.000      -5.450      -5.208\n",
      "age            0.2033      0.003     71.660      0.000       0.198       0.209\n",
      "agesqr        -0.0019   3.04e-05    -61.002      0.000      -0.002      -0.002\n",
      "female        -0.8089      0.017    -48.986      0.000      -0.841      -0.777\n",
      "==============================================================================\n"
     ]
    }
   ],
   "source": [
    "# Result\n",
    "print(model1.summary())\n",
    "print(model2.summary())"
   ]
  },
  {
   "cell_type": "code",
   "execution_count": 27,
   "metadata": {},
   "outputs": [
    {
     "data": {
      "text/html": [
       "<table class=\"simpletable\">\n",
       "<caption>Probit Marginal Effects</caption>\n",
       "<tr>\n",
       "  <th>Dep. Variable:</th> <td>selfemployed</td>\n",
       "</tr>\n",
       "<tr>\n",
       "  <th>Method:</th>            <td>dydx</td>    \n",
       "</tr>\n",
       "<tr>\n",
       "  <th>At:</th>                <td>mean</td>    \n",
       "</tr>\n",
       "</table>\n",
       "<table class=\"simpletable\">\n",
       "<tr>\n",
       "     <th></th>       <th>dy/dx</th>    <th>std err</th>      <th>z</th>      <th>P>|z|</th>  <th>[0.025</th>    <th>0.975]</th>  \n",
       "</tr>\n",
       "<tr>\n",
       "  <th>age</th>    <td>    0.0364</td> <td>    0.000</td> <td>   78.482</td> <td> 0.000</td> <td>    0.036</td> <td>    0.037</td>\n",
       "</tr>\n",
       "<tr>\n",
       "  <th>agesqr</th> <td>   -0.0003</td> <td> 5.07e-06</td> <td>  -65.318</td> <td> 0.000</td> <td>   -0.000</td> <td>   -0.000</td>\n",
       "</tr>\n",
       "<tr>\n",
       "  <th>female</th> <td>   -0.1486</td> <td>    0.003</td> <td>  -49.208</td> <td> 0.000</td> <td>   -0.155</td> <td>   -0.143</td>\n",
       "</tr>\n",
       "</table>"
      ],
      "text/plain": [
       "<class 'statsmodels.iolib.summary.Summary'>\n",
       "\"\"\"\n",
       "       Probit Marginal Effects       \n",
       "=====================================\n",
       "Dep. Variable:           selfemployed\n",
       "Method:                          dydx\n",
       "At:                              mean\n",
       "==============================================================================\n",
       "                dy/dx    std err          z      P>|z|      [0.025      0.975]\n",
       "------------------------------------------------------------------------------\n",
       "age            0.0364      0.000     78.482      0.000       0.036       0.037\n",
       "agesqr        -0.0003   5.07e-06    -65.318      0.000      -0.000      -0.000\n",
       "female        -0.1486      0.003    -49.208      0.000      -0.155      -0.143\n",
       "==============================================================================\n",
       "\"\"\""
      ]
     },
     "execution_count": 27,
     "metadata": {},
     "output_type": "execute_result"
    }
   ],
   "source": [
    "# Marginal effect\n",
    "model1.get_margeff(at='mean', method='dydx', atexog=None, dummy=True, count=False).summary()"
   ]
  },
  {
   "cell_type": "code",
   "execution_count": 28,
   "metadata": {},
   "outputs": [
    {
     "data": {
      "text/html": [
       "<table class=\"simpletable\">\n",
       "<caption>Logit Marginal Effects</caption>\n",
       "<tr>\n",
       "  <th>Dep. Variable:</th> <td>selfemployed</td>\n",
       "</tr>\n",
       "<tr>\n",
       "  <th>Method:</th>            <td>dydx</td>    \n",
       "</tr>\n",
       "<tr>\n",
       "  <th>At:</th>                <td>mean</td>    \n",
       "</tr>\n",
       "</table>\n",
       "<table class=\"simpletable\">\n",
       "<tr>\n",
       "     <th></th>       <th>dy/dx</th>    <th>std err</th>      <th>z</th>      <th>P>|z|</th>  <th>[0.025</th>    <th>0.975]</th>  \n",
       "</tr>\n",
       "<tr>\n",
       "  <th>age</th>    <td>    0.0363</td> <td>    0.000</td> <td>   77.835</td> <td> 0.000</td> <td>    0.035</td> <td>    0.037</td>\n",
       "</tr>\n",
       "<tr>\n",
       "  <th>agesqr</th> <td>   -0.0003</td> <td> 5.11e-06</td> <td>  -64.840</td> <td> 0.000</td> <td>   -0.000</td> <td>   -0.000</td>\n",
       "</tr>\n",
       "<tr>\n",
       "  <th>female</th> <td>   -0.1460</td> <td>    0.003</td> <td>  -49.185</td> <td> 0.000</td> <td>   -0.152</td> <td>   -0.140</td>\n",
       "</tr>\n",
       "</table>"
      ],
      "text/plain": [
       "<class 'statsmodels.iolib.summary.Summary'>\n",
       "\"\"\"\n",
       "        Logit Marginal Effects       \n",
       "=====================================\n",
       "Dep. Variable:           selfemployed\n",
       "Method:                          dydx\n",
       "At:                              mean\n",
       "==============================================================================\n",
       "                dy/dx    std err          z      P>|z|      [0.025      0.975]\n",
       "------------------------------------------------------------------------------\n",
       "age            0.0363      0.000     77.835      0.000       0.035       0.037\n",
       "agesqr        -0.0003   5.11e-06    -64.840      0.000      -0.000      -0.000\n",
       "female        -0.1460      0.003    -49.185      0.000      -0.152      -0.140\n",
       "==============================================================================\n",
       "\"\"\""
      ]
     },
     "execution_count": 28,
     "metadata": {},
     "output_type": "execute_result"
    }
   ],
   "source": [
    "model2.get_margeff(at='mean', method='dydx', atexog=None, dummy=True, count=False).summary()"
   ]
  },
  {
   "cell_type": "code",
   "execution_count": null,
   "metadata": {},
   "outputs": [],
   "source": []
  }
 ],
 "metadata": {
  "kernelspec": {
   "display_name": "Python 3",
   "language": "python",
   "name": "python3"
  },
  "language_info": {
   "codemirror_mode": {
    "name": "ipython",
    "version": 3
   },
   "file_extension": ".py",
   "mimetype": "text/x-python",
   "name": "python",
   "nbconvert_exporter": "python",
   "pygments_lexer": "ipython3",
   "version": "3.7.0"
  }
 },
 "nbformat": 4,
 "nbformat_minor": 2
}
