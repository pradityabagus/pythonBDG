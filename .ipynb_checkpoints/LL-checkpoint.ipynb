{
 "cells": [
  {
   "cell_type": "code",
   "execution_count": 16,
   "metadata": {},
   "outputs": [
    {
     "name": "stdout",
     "output_type": "stream",
     "text": [
      "                            OLS Regression Results                            \n",
      "==============================================================================\n",
      "Dep. Variable:           income_month   R-squared:                       0.024\n",
      "Model:                            OLS   Adj. R-squared:                  0.024\n",
      "Method:                 Least Squares   F-statistic:                     97.45\n",
      "Date:                Sun, 11 Nov 2018   Prob (F-statistic):           2.61e-62\n",
      "Time:                        15:49:24   Log-Likelihood:            -1.9563e+05\n",
      "No. Observations:               11914   AIC:                         3.913e+05\n",
      "Df Residuals:                   11910   BIC:                         3.913e+05\n",
      "Df Model:                           3                                         \n",
      "Covariance Type:            nonrobust                                         \n",
      "==============================================================================\n",
      "                 coef    std err          t      P>|t|      [0.025      0.975]\n",
      "------------------------------------------------------------------------------\n",
      "Intercept  -1.768e+06   2.62e+05     -6.762      0.000   -2.28e+06   -1.26e+06\n",
      "age         1.947e+05   1.37e+04     14.257      0.000    1.68e+05    2.21e+05\n",
      "agesqr     -2192.9069    169.323    -12.951      0.000   -2524.807   -1861.006\n",
      "female     -4.322e+05   6.27e+04     -6.894      0.000   -5.55e+05   -3.09e+05\n",
      "==============================================================================\n",
      "Omnibus:                    24598.060   Durbin-Watson:                   1.764\n",
      "Prob(Omnibus):                  0.000   Jarque-Bera (JB):        204095318.421\n",
      "Skew:                          17.086   Prob(JB):                         0.00\n",
      "Kurtosis:                     643.288   Cond. No.                     1.47e+04\n",
      "==============================================================================\n",
      "\n",
      "Warnings:\n",
      "[1] Standard Errors assume that the covariance matrix of the errors is correctly specified.\n",
      "[2] The condition number is large, 1.47e+04. This might indicate that there are\n",
      "strong multicollinearity or other numerical problems.\n"
     ]
    }
   ],
   "source": [
    "# Libraries\n",
    "import pandas as pd\n",
    "import numpy as np\n",
    "import statsmodels.formula.api as smf\n",
    "\n",
    "# Data manipulating\n",
    "LL = pd.read_stata('LL_train.dta')\n",
    "pd.set_option('display.max_columns', 50)\n",
    "pd.set_option('display.max_rows', 10)\n",
    "\n",
    "# Regression\n",
    "model1 = smf.ols('income_month ~ age + agesqr + female', data=LL).fit()\n",
    "\n",
    "# Result\n",
    "print(model1.summary())"
   ]
  },
  {
   "cell_type": "code",
   "execution_count": null,
   "metadata": {},
   "outputs": [],
   "source": []
  }
 ],
 "metadata": {
  "kernelspec": {
   "display_name": "Python 3",
   "language": "python",
   "name": "python3"
  },
  "language_info": {
   "codemirror_mode": {
    "name": "ipython",
    "version": 3
   },
   "file_extension": ".py",
   "mimetype": "text/x-python",
   "name": "python",
   "nbconvert_exporter": "python",
   "pygments_lexer": "ipython3",
   "version": "3.7.0"
  }
 },
 "nbformat": 4,
 "nbformat_minor": 2
}
