{
 "cells": [
  {
   "cell_type": "code",
   "execution_count": 30,
   "metadata": {},
   "outputs": [
    {
     "data": {
      "text/plain": [
       "'1.15.1'"
      ]
     },
     "execution_count": 30,
     "metadata": {},
     "output_type": "execute_result"
    }
   ],
   "source": [
    "from numpy import *\n",
    "__version__"
   ]
  },
  {
   "cell_type": "code",
   "execution_count": 10,
   "metadata": {},
   "outputs": [
    {
     "name": "stdout",
     "output_type": "stream",
     "text": [
      "0 kuadrat sama dengan 0\n",
      "1 kuadrat sama dengan 1\n",
      "2 kuadrat sama dengan 2\n",
      "3 kuadrat sama dengan 3\n",
      "4 kuadrat sama dengan 0\n",
      "5 kuadrat sama dengan 1\n",
      "6 kuadrat sama dengan 2\n",
      "7 kuadrat sama dengan 3\n",
      "8 kuadrat sama dengan 0\n",
      "9 kuadrat sama dengan 1\n"
     ]
    }
   ],
   "source": [
    "def indra(y,z):\n",
    "    return y % z;\n",
    "for N in range (0,10):\n",
    "    print(N, \"kuadrat sama dengan\", indra(N,4))"
   ]
  },
  {
   "cell_type": "code",
   "execution_count": 31,
   "metadata": {},
   "outputs": [
    {
     "data": {
      "text/plain": [
       "array([18, 76, 62, 87, 44, 40, 22, 47, 53, 46])"
      ]
     },
     "execution_count": 31,
     "metadata": {},
     "output_type": "execute_result"
    }
   ],
   "source": [
    "L = list(range(10**(2-1)))\n",
    "L2 = [str(ab) for ab in L]\n",
    "L2\n",
    "\n",
    "random = random.randint(10**2,size=10) #<----- membuat serangkaian angka random sebelum 100, dalam rangkaian tersebut terdapat 10 angka#\n",
    "random\n",
    "\n"
   ]
  },
  {
   "cell_type": "code",
   "execution_count": 62,
   "metadata": {},
   "outputs": [
    {
     "name": "stdout",
     "output_type": "stream",
     "text": [
      "nbytes 300 bytes\n"
     ]
    }
   ],
   "source": [
    "\n",
    "from numpy import *\n",
    "random.seed(1)\n",
    "\n",
    "L = random.randint(10, size=(3,5,5))\n",
    "L\n",
    "print (\"nbytes\",L.nbytes, \"bytes\")\n",
    "\n",
    "\n"
   ]
  },
  {
   "cell_type": "code",
   "execution_count": null,
   "metadata": {},
   "outputs": [],
   "source": []
  },
  {
   "cell_type": "code",
   "execution_count": null,
   "metadata": {},
   "outputs": [],
   "source": []
  }
 ],
 "metadata": {
  "kernelspec": {
   "display_name": "Python 3",
   "language": "python",
   "name": "python3"
  },
  "language_info": {
   "codemirror_mode": {
    "name": "ipython",
    "version": 3
   },
   "file_extension": ".py",
   "mimetype": "text/x-python",
   "name": "python",
   "nbconvert_exporter": "python",
   "pygments_lexer": "ipython3",
   "version": "3.7.0"
  }
 },
 "nbformat": 4,
 "nbformat_minor": 2
}
